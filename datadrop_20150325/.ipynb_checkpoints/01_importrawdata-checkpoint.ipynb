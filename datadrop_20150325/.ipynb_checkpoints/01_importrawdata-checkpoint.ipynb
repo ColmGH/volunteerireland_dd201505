{
 "cells": [
  {
   "cell_type": "markdown",
   "metadata": {},
   "source": [
    "####DataKind Dublin\n",
    "\n",
    "## Volunteer Ireland DataDive Project 2015\n",
    "# Import Raw Data\n",
    "\n",
    "Quick & dirty import of raw csv files and write to sqlite3 db\n",
    "\n",
    "+ [Setup](#Setup)\n",
    "    + [Local Functions](#Local-Functions)\n",
    "    + [Load Data](#Load Data)    \n",
    "   \n"
   ]
  },
  {
   "cell_type": "markdown",
   "metadata": {},
   "source": [
    "# Setup"
   ]
  },
  {
   "cell_type": "code",
   "execution_count": 1,
   "metadata": {
    "collapsed": true
   },
   "outputs": [],
   "source": [
    "## Interactive magics - comment out if running from another script\n",
    "%matplotlib inline\n",
    "%qtconsole --colors=linux --ConsoleWidget.font_size=12 --ConsoleWidget.font_family='Consolas'"
   ]
  },
  {
   "cell_type": "code",
   "execution_count": 14,
   "metadata": {
    "collapsed": true
   },
   "outputs": [],
   "source": [
    "from __future__ import division, print_function\n",
    "from collections import OrderedDict\n",
    "import unicodedata\n",
    "import sys\n",
    "import re\n",
    "import sqlite3\n",
    "\n",
    "import numpy as np\n",
    "import matplotlib.pyplot as plt\n",
    "import pandas as pd\n",
    "\n",
    "# Set some defaults\n",
    "pd.set_option('display.mpl_style', 'default')\n",
    "pd.set_option('display.notebook_repr_html', True)\n",
    "np.random.seed(0)"
   ]
  },
  {
   "cell_type": "markdown",
   "metadata": {},
   "source": [
    "## Local Functions"
   ]
  },
  {
   "cell_type": "code",
   "execution_count": 19,
   "metadata": {
    "collapsed": true
   },
   "outputs": [],
   "source": [
    "remove_punct_map = dict.fromkeys(i for i in range(sys.maxunicode)\n",
    "                      if unicodedata.category(chr(i)).startswith('P'))\n",
    "\n",
    "def snakeycase(s,punctmap=remove_punct_map):\n",
    "    \"\"\" return a string that has been stripped of punctuation, trimmed, lowercased \n",
    "        and spaces replaced by underscores .\n",
    "        e.g. \" I'm a Fan, of snakey-strings :) \" -> \"im_a_fan_of_snakeystrings\"\n",
    "    \"\"\"\n",
    "    newstring = s.translate(punctmap)\n",
    "    return '_'.join(newstring.lower().split())"
   ]
  },
  {
   "cell_type": "markdown",
   "metadata": {},
   "source": [
    "## Load Data"
   ]
  },
  {
   "cell_type": "markdown",
   "metadata": {},
   "source": [
    "#### Volunteer Info"
   ]
  },
  {
   "cell_type": "code",
   "execution_count": 23,
   "metadata": {
    "collapsed": false
   },
   "outputs": [
    {
     "name": "stdout",
     "output_type": "stream",
     "text": [
      "(12401, 10)\n"
     ]
    },
    {
     "data": {
      "text/html": [
       "<div style=\"max-height:1000px;max-width:1500px;overflow:auto;\">\n",
       "<table border=\"1\" class=\"dataframe\">\n",
       "  <thead>\n",
       "    <tr style=\"text-align: right;\">\n",
       "      <th></th>\n",
       "      <th>volunteer_id</th>\n",
       "      <th>gender</th>\n",
       "      <th>nationality</th>\n",
       "      <th>placed</th>\n",
       "      <th>volunteer_recruitment_method</th>\n",
       "      <th>skills_profile</th>\n",
       "      <th>county</th>\n",
       "      <th>age_group</th>\n",
       "      <th>cause_you_are_interested_in</th>\n",
       "      <th>activity_you_are_interested_in</th>\n",
       "    </tr>\n",
       "  </thead>\n",
       "  <tbody>\n",
       "    <tr>\n",
       "      <th>0</th>\n",
       "      <td> 00QD000000gsscc</td>\n",
       "      <td> Female</td>\n",
       "      <td>    Irish</td>\n",
       "      <td> Referred to Organisation</td>\n",
       "      <td>                          Internet Search</td>\n",
       "      <td> General Admin/ Office Support; Hospitality/ Be...</td>\n",
       "      <td>   Clare</td>\n",
       "      <td> 23-35</td>\n",
       "      <td>                     Animals</td>\n",
       "      <td>          Short term/seasonal/once off</td>\n",
       "    </tr>\n",
       "    <tr>\n",
       "      <th>1</th>\n",
       "      <td> 00QD000000gssn1</td>\n",
       "      <td> Female</td>\n",
       "      <td> American</td>\n",
       "      <td> Referred to Organisation</td>\n",
       "      <td>                          Internet Search</td>\n",
       "      <td> Education/ Training; Multi-lingual/ Multi-cult...</td>\n",
       "      <td>  Dublin</td>\n",
       "      <td> 36-49</td>\n",
       "      <td>          Education/Literacy</td>\n",
       "      <td> Teaching/Tutoring/Supporting learning</td>\n",
       "    </tr>\n",
       "    <tr>\n",
       "      <th>2</th>\n",
       "      <td> 00QD000000gssoO</td>\n",
       "      <td>   Male</td>\n",
       "      <td>  British</td>\n",
       "      <td>               Not Placed</td>\n",
       "      <td>                          Internet Search</td>\n",
       "      <td> Computer/ Web/ ICT; Drivers; General Admin/ Of...</td>\n",
       "      <td> Kildare</td>\n",
       "      <td> 36-49</td>\n",
       "      <td> Older People/Active Retired</td>\n",
       "      <td>   Sports/out door activities/Coaching</td>\n",
       "    </tr>\n",
       "    <tr>\n",
       "      <th>3</th>\n",
       "      <td> 00QD000000gssvA</td>\n",
       "      <td>   Male</td>\n",
       "      <td>    Irish</td>\n",
       "      <td>               Not Placed</td>\n",
       "      <td> Word of Mouth/Referred by another agency</td>\n",
       "      <td> Architecture/ Design; Arts/ Music/ Drama; Othe...</td>\n",
       "      <td>  Dublin</td>\n",
       "      <td> 50-64</td>\n",
       "      <td>       Homelessness/ Housing</td>\n",
       "      <td>             Arts (music/drama/crafts)</td>\n",
       "    </tr>\n",
       "    <tr>\n",
       "      <th>4</th>\n",
       "      <td> 00QD000000gssyE</td>\n",
       "      <td> Female</td>\n",
       "      <td>  Italian</td>\n",
       "      <td> Referred to Organisation</td>\n",
       "      <td>                          Internet Search</td>\n",
       "      <td> Arts/ Music/ Drama; Education/ Training; Event...</td>\n",
       "      <td>  Dublin</td>\n",
       "      <td> 36-49</td>\n",
       "      <td> Older People/Active Retired</td>\n",
       "      <td>                 Befriending/Mentoring</td>\n",
       "    </tr>\n",
       "  </tbody>\n",
       "</table>\n",
       "</div>"
      ],
      "text/plain": [
       "      volunteer_id  gender nationality                    placed  \\\n",
       "0  00QD000000gsscc  Female       Irish  Referred to Organisation   \n",
       "1  00QD000000gssn1  Female    American  Referred to Organisation   \n",
       "2  00QD000000gssoO    Male     British                Not Placed   \n",
       "3  00QD000000gssvA    Male       Irish                Not Placed   \n",
       "4  00QD000000gssyE  Female     Italian  Referred to Organisation   \n",
       "\n",
       "               volunteer_recruitment_method  \\\n",
       "0                           Internet Search   \n",
       "1                           Internet Search   \n",
       "2                           Internet Search   \n",
       "3  Word of Mouth/Referred by another agency   \n",
       "4                           Internet Search   \n",
       "\n",
       "                                      skills_profile   county age_group  \\\n",
       "0  General Admin/ Office Support; Hospitality/ Be...    Clare     23-35   \n",
       "1  Education/ Training; Multi-lingual/ Multi-cult...   Dublin     36-49   \n",
       "2  Computer/ Web/ ICT; Drivers; General Admin/ Of...  Kildare     36-49   \n",
       "3  Architecture/ Design; Arts/ Music/ Drama; Othe...   Dublin     50-64   \n",
       "4  Arts/ Music/ Drama; Education/ Training; Event...   Dublin     36-49   \n",
       "\n",
       "   cause_you_are_interested_in         activity_you_are_interested_in  \n",
       "0                      Animals           Short term/seasonal/once off  \n",
       "1           Education/Literacy  Teaching/Tutoring/Supporting learning  \n",
       "2  Older People/Active Retired    Sports/out door activities/Coaching  \n",
       "3        Homelessness/ Housing              Arts (music/drama/crafts)  \n",
       "4  Older People/Active Retired                  Befriending/Mentoring  "
      ]
     },
     "execution_count": 23,
     "metadata": {},
     "output_type": "execute_result"
    }
   ],
   "source": [
    "raw_volunteers = pd.read_csv('cleaned_csv/volunteers.csv')\n",
    "raw_volunteers.rename(columns=lambda x: snakeycase(x), inplace=True)\n",
    "print(raw_volunteers.shape)\n",
    "raw_volunteers.head()"
   ]
  },
  {
   "cell_type": "markdown",
   "metadata": {},
   "source": [
    "#### Placement Info"
   ]
  },
  {
   "cell_type": "code",
   "execution_count": 25,
   "metadata": {
    "collapsed": false
   },
   "outputs": [
    {
     "name": "stdout",
     "output_type": "stream",
     "text": [
      "(5897, 8)\n"
     ]
    },
    {
     "data": {
      "text/html": [
       "<div style=\"max-height:1000px;max-width:1500px;overflow:auto;\">\n",
       "<table border=\"1\" class=\"dataframe\">\n",
       "  <thead>\n",
       "    <tr style=\"text-align: right;\">\n",
       "      <th></th>\n",
       "      <th>place_volunteer_connector</th>\n",
       "      <th>place_volunteer_id</th>\n",
       "      <th>volunteer_opportunity_record_id</th>\n",
       "      <th>volunteer_registered_centre</th>\n",
       "      <th>organisation</th>\n",
       "      <th>volunteer_hours</th>\n",
       "      <th>volunteer_opportunity_volunteer_centre</th>\n",
       "      <th>volunteer_opportunity_volunteer_opportunity</th>\n",
       "    </tr>\n",
       "  </thead>\n",
       "  <tbody>\n",
       "    <tr>\n",
       "      <th>0</th>\n",
       "      <td> v-34825</td>\n",
       "      <td> a01D000000mUsFq</td>\n",
       "      <td> a00D000000Q6SjS</td>\n",
       "      <td> South Dublin County</td>\n",
       "      <td>                                     NaN</td>\n",
       "      <td>   4</td>\n",
       "      <td> South Dublin County</td>\n",
       "      <td>  Unwrapped Festival Stewards 2013</td>\n",
       "    </tr>\n",
       "    <tr>\n",
       "      <th>1</th>\n",
       "      <td> v-40103</td>\n",
       "      <td> a01D000000rEFsI</td>\n",
       "      <td> a00D000000LLY2a</td>\n",
       "      <td>               Kerry</td>\n",
       "      <td>                  Kerry General Hospital</td>\n",
       "      <td> 104</td>\n",
       "      <td>               Kerry</td>\n",
       "      <td>         Meet and Greet Volunteers</td>\n",
       "    </tr>\n",
       "    <tr>\n",
       "      <th>2</th>\n",
       "      <td> v-37087</td>\n",
       "      <td> a01D000000omKeL</td>\n",
       "      <td> a00D000000IMwTv</td>\n",
       "      <td>             Wicklow</td>\n",
       "      <td> Museum of Childhood &amp;amp; Tara's Palace</td>\n",
       "      <td> 200</td>\n",
       "      <td>             Wicklow</td>\n",
       "      <td>                 Volunteer Curator</td>\n",
       "    </tr>\n",
       "    <tr>\n",
       "      <th>3</th>\n",
       "      <td> v-36379</td>\n",
       "      <td> a01D000000oCvKi</td>\n",
       "      <td> a00D000000Q5Kod</td>\n",
       "      <td>             Wicklow</td>\n",
       "      <td>           Bray Community Addiction Team</td>\n",
       "      <td> 140</td>\n",
       "      <td>             Wicklow</td>\n",
       "      <td>  Drop In Centre Support Volunteer</td>\n",
       "    </tr>\n",
       "    <tr>\n",
       "      <th>4</th>\n",
       "      <td> v-38880</td>\n",
       "      <td> a01D000000rDIHS</td>\n",
       "      <td> a00D000000WaLyA</td>\n",
       "      <td>             Wicklow</td>\n",
       "      <td>          Luisne Centre for Spirituality</td>\n",
       "      <td>   8</td>\n",
       "      <td>             Wicklow</td>\n",
       "      <td> Open Day Stewards &amp;amp; Hostesses</td>\n",
       "    </tr>\n",
       "  </tbody>\n",
       "</table>\n",
       "</div>"
      ],
      "text/plain": [
       "  place_volunteer_connector place_volunteer_id  \\\n",
       "0                   v-34825    a01D000000mUsFq   \n",
       "1                   v-40103    a01D000000rEFsI   \n",
       "2                   v-37087    a01D000000omKeL   \n",
       "3                   v-36379    a01D000000oCvKi   \n",
       "4                   v-38880    a01D000000rDIHS   \n",
       "\n",
       "  volunteer_opportunity_record_id volunteer_registered_centre  \\\n",
       "0                 a00D000000Q6SjS         South Dublin County   \n",
       "1                 a00D000000LLY2a                       Kerry   \n",
       "2                 a00D000000IMwTv                     Wicklow   \n",
       "3                 a00D000000Q5Kod                     Wicklow   \n",
       "4                 a00D000000WaLyA                     Wicklow   \n",
       "\n",
       "                              organisation  volunteer_hours  \\\n",
       "0                                      NaN                4   \n",
       "1                   Kerry General Hospital              104   \n",
       "2  Museum of Childhood &amp; Tara's Palace              200   \n",
       "3            Bray Community Addiction Team              140   \n",
       "4           Luisne Centre for Spirituality                8   \n",
       "\n",
       "  volunteer_opportunity_volunteer_centre  \\\n",
       "0                    South Dublin County   \n",
       "1                                  Kerry   \n",
       "2                                Wicklow   \n",
       "3                                Wicklow   \n",
       "4                                Wicklow   \n",
       "\n",
       "  volunteer_opportunity_volunteer_opportunity  \n",
       "0            Unwrapped Festival Stewards 2013  \n",
       "1                   Meet and Greet Volunteers  \n",
       "2                           Volunteer Curator  \n",
       "3            Drop In Centre Support Volunteer  \n",
       "4           Open Day Stewards &amp; Hostesses  "
      ]
     },
     "execution_count": 25,
     "metadata": {},
     "output_type": "execute_result"
    }
   ],
   "source": [
    "raw_placements = pd.read_csv('datadrop_20150325/cleaned_csv/placements.csv')\n",
    "raw_placements.rename(columns=lambda x: snakeycase(x), inplace=True)\n",
    "print(raw_placements.shape)\n",
    "raw_placements.head()"
   ]
  },
  {
   "cell_type": "code",
   "execution_count": null,
   "metadata": {
    "collapsed": true
   },
   "outputs": [],
   "source": []
  },
  {
   "cell_type": "code",
   "execution_count": null,
   "metadata": {
    "collapsed": true
   },
   "outputs": [],
   "source": []
  },
  {
   "cell_type": "code",
   "execution_count": null,
   "metadata": {
    "collapsed": true
   },
   "outputs": [],
   "source": []
  },
  {
   "cell_type": "code",
   "execution_count": null,
   "metadata": {
    "collapsed": true
   },
   "outputs": [],
   "source": []
  },
  {
   "cell_type": "code",
   "execution_count": null,
   "metadata": {
    "collapsed": true
   },
   "outputs": [],
   "source": []
  },
  {
   "cell_type": "code",
   "execution_count": null,
   "metadata": {
    "collapsed": true
   },
   "outputs": [],
   "source": []
  },
  {
   "cell_type": "markdown",
   "metadata": {},
   "source": [
    "---\n",
    "\n",
    "DataKind Dublin 2005"
   ]
  }
 ],
 "metadata": {
  "kernelspec": {
   "display_name": "Python 3",
   "language": "python",
   "name": "python3"
  },
  "language_info": {
   "codemirror_mode": {
    "name": "ipython",
    "version": 3
   },
   "file_extension": ".py",
   "mimetype": "text/x-python",
   "name": "python",
   "nbconvert_exporter": "python",
   "pygments_lexer": "ipython3",
   "version": "3.4.3"
  }
 },
 "nbformat": 4,
 "nbformat_minor": 0
}
